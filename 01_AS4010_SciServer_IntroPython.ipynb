{
 "cells": [
  {
   "cell_type": "markdown",
   "metadata": {},
   "source": [
    "# Introduction to Python and Jupyter notebooks\n",
    "_A python exercise notebook written by Rita Tojeiro, October 2017; last revised in August 2020. \n",
    "This notebook has benefited from examples provided by Britt Lundgren (University of North Carolina) and Jordan Raddick (John Hopkins University), and resource lists by Rick Muller (Sandia National Laboratories)._\n",
    "\n",
    "Welcome to the AS4010 computational exercise. The aim is to enable and encourage you to explore the largest astronomical dataset in existence, and derive some conclusions about galaxy properties, large-scale structure, and spectral data. This will help you to consolidate the knowledge you gain from lectures, as well as bring you into direct contact with the data that your lecturers are using every day to conduct their research.\n",
    "\n",
    "\n",
    "Throughout the semester you will work through three Python notebooks which will:\n",
    "   1. Refresh your memory about python, or introduce you to python if you've never used it before (unassessed).\n",
    "   2. Introduce you to the analysis of Sloan Digital Sky Survey (SDSS) data (unassessed).\n",
    "   \n",
    "We recommend that you complete these in the first 3-4 weeks of the semester.\n",
    "   \n",
    "After that, you will conduct a short research project using the tools you have learned (assessed - 20% of the total mark module).\n",
    "\n",
    "It is our sincere hope that you take this brief introduction and explore this vast dataset in your own time - the sky is your limit, and at your fingertips is now the most used astronomy dataset in the world.\n",
    "\n",
    "## Jupyter notebooks and completing this notebook\n",
    "\n",
    "Python is a programming language, and notebooks are web applications consisting of sequences of code cells that allow you to run snippets of code and keep a record of your work - just like a Lab book. They are also useful ways to guide users through a pre-established work flow, and  that is the way we will use them here. \n",
    "\n",
    "Cells in notebooks can have multiple functions. In our case we will use _code_ cells or _markdown_ cells. You can change the function of a cell on the dropdown menu at the header of the page. Code cells interpret and execute code, and markdown cells allow you to write down text - just as I am doing now.\n",
    "\n",
    "To run the code in a cell you simply type in your commands, then press **shift+enter** to execute (just pressing enter will give you a new line). \n",
    "\n",
    "The way this exercise is structured is via a combination of pre-filled code cells, which you need to execute, and empty code cells, which you need to fill in and then execute. If you wish to add a new cell, either press the \"+\" sign in the menu at the top of the page, or click Insert->Insert Cell Above/Below.\n",
    "\n",
    "Jupyter notebooks are auto-saved with some frequency, but you are strongly encouraged to File->Save and Checkpoint at the end of every completed exercise. When you want to close your notebook, you need to **File->Close and Halt** (instead of just closing your browser window).\n",
    "\n",
    "This first introductory notebook is a highly incomplete, extremely brief introduction to Python. It is designed to give you the minimum set of tools to interact with data, and successfully complete the coursework. You are encouraged to go use additional resources to solidify your knowledge of Python. \n",
    "\n",
    "## Submission\n",
    "\n",
    "**This notebook is NOT assessed, and it is OPTIONAL.**\n",
    "\n",
    "You do not need to hand-in your notebook for marking. If you are unfamiliar with Python you are strongly encouraged to follow the instructions and experiment with the code provided. If you're familiar with Python, Numpy, Matplotlib and Pandas, you may work through it a little faster.\n",
    "\n",
    "\n",
    "### Python resources\n",
    "\n",
    "* [Python for Astronomers](https://prappleizer.github.io/index.html) A introduction to Python, aimed at complete beginners. Chapters 2, 4 and 7 are particularly relevant for this project, and recommended. You can download the interactive tutorials and upload them onto SciServer to run them (select Python 2 if SciServer asks you for a Kernerl when you open the tutorial).\n",
    "\n",
    "* [Python Tutorial](http://docs.python.org/2/tutorial/) First stop reference for basic tasks (looping, string formating, classes, functions, etc). A good place to look for specific examples. Sections 3, 4 and 5 are the most relevant for this module, but go beyond what you will need here. \n",
    "* [Python Standard Library](http://docs.python.org/2/library/) The definitive reference for everything Python can do out of the box. Many common and not so common tasks are already taken care of. Not suitable for the complete beginner.\n"
   ]
  },
  {
   "cell_type": "markdown",
   "metadata": {},
   "source": [
    "## Part 1 - Getting started with Python and Jupyter notebooks"
   ]
  },
  {
   "cell_type": "markdown",
   "metadata": {},
   "source": [
    "### 1.1 The basics\n",
    "We will begin with the traditional start in any programming language - by typing in \"Hello world!\", and asking python to display the message using the print() function.\n",
    "\n",
    "I've filled in the python command in the cell below for you. To execute it, select the cell with your mouse and press shift+enter."
   ]
  },
  {
   "cell_type": "code",
   "execution_count": null,
   "metadata": {
    "scrolled": true
   },
   "outputs": [],
   "source": [
    "print('Hello world!')"
   ]
  },
  {
   "cell_type": "markdown",
   "metadata": {},
   "source": [
    "The print() function can print the value of a wide range of variables. In the next cells, we define 5 variables, and print their values in different ways. Execute it. Do all the printed values make sense? You can change the variable values and the operations within the print function argument to make sure you understand what is happening."
   ]
  },
  {
   "cell_type": "code",
   "execution_count": null,
   "metadata": {},
   "outputs": [],
   "source": [
    "x = 10 #an integer\n",
    "y = 2.0 #a float\n",
    "given_name = 'Rita'#a string\n",
    "favourite_colour = 'purple'#another string\n",
    "blank = ' '"
   ]
  },
  {
   "cell_type": "code",
   "execution_count": null,
   "metadata": {},
   "outputs": [],
   "source": [
    "print(x,y,given_name)"
   ]
  },
  {
   "cell_type": "code",
   "execution_count": null,
   "metadata": {},
   "outputs": [],
   "source": [
    "print(x + y)"
   ]
  },
  {
   "cell_type": "code",
   "execution_count": null,
   "metadata": {},
   "outputs": [],
   "source": [
    "print(x/y)"
   ]
  },
  {
   "cell_type": "code",
   "execution_count": null,
   "metadata": {},
   "outputs": [],
   "source": [
    "print(given_name + blank + str(x))"
   ]
  },
  {
   "cell_type": "markdown",
   "metadata": {},
   "source": [
    "Fill in the values in cell below, and _print_."
   ]
  },
  {
   "cell_type": "code",
   "execution_count": null,
   "metadata": {},
   "outputs": [],
   "source": [
    "my_given_name=\n",
    "my_favourite_colour=\n"
   ]
  },
  {
   "cell_type": "markdown",
   "metadata": {},
   "source": [
    "In our first example, we asked python to print the sum of two numbers. Python performed the computation, and printed the outcome. We can also create new variables by performing operations on variables that we have previously named, like so:"
   ]
  },
  {
   "cell_type": "code",
   "execution_count": null,
   "metadata": {},
   "outputs": [],
   "source": [
    "h = x + y\n",
    "print(h)"
   ]
  },
  {
   "cell_type": "code",
   "execution_count": null,
   "metadata": {},
   "outputs": [],
   "source": [
    "h = x - y\n",
    "print(h)"
   ]
  },
  {
   "cell_type": "code",
   "execution_count": null,
   "metadata": {},
   "outputs": [],
   "source": [
    "h = x/y\n",
    "print(h)"
   ]
  },
  {
   "cell_type": "code",
   "execution_count": null,
   "metadata": {},
   "outputs": [],
   "source": [
    "h = x*y\n",
    "print(h)"
   ]
  },
  {
   "cell_type": "code",
   "execution_count": null,
   "metadata": {},
   "outputs": [],
   "source": [
    "h = x**y\n",
    "print(h)"
   ]
  },
  {
   "cell_type": "markdown",
   "metadata": {},
   "source": [
    "From the example above, you can also see that if you assign a different value to a variable, you overwrite its previous value. Variables have no memory!"
   ]
  },
  {
   "cell_type": "markdown",
   "metadata": {},
   "source": [
    "### 1.2 Error messages ###\n",
    "\n",
    "If you make an error in syntax or do something else wrong (like calling a variable that isn't defined), python will print an error message. Don't panic. Python error messages can be verbose and long, but typically the very last line will give you a clue as to the reason of the error. Execute the next two cells: they will result in an error. Amend the code in the cell and re-execute until you don't get an error message . "
   ]
  },
  {
   "cell_type": "code",
   "execution_count": null,
   "metadata": {},
   "outputs": [],
   "source": [
    "print(t)"
   ]
  },
  {
   "cell_type": "code",
   "execution_count": null,
   "metadata": {},
   "outputs": [],
   "source": [
    "print('My surname is ' my_surname)"
   ]
  },
  {
   "cell_type": "markdown",
   "metadata": {},
   "source": [
    "### 1.3 Loops"
   ]
  },
  {
   "cell_type": "markdown",
   "metadata": {},
   "source": [
    "**Loops** allow you to execute a set of instructions a number of times, according to either a counter (in an *if* loop), or until some condition is satisfied (in a *while* loop). For example, here's a quick way to print the numbers 1 to 10:"
   ]
  },
  {
   "cell_type": "code",
   "execution_count": null,
   "metadata": {},
   "outputs": [],
   "source": [
    "for i in range(0,10):\n",
    "    print(i)\n",
    "print(\"loop is finished\")"
   ]
  },
  {
   "cell_type": "markdown",
   "metadata": {},
   "source": [
    "**Indentation** is extremely important in Python, and it defines whether lines of code fall within a loop (or function), or not. In the example above, we created a loop where a variable i varies from 0 to 9. Within each iteration of the loop we printed the value of i. When the loop was finished, we printed a statement - note the indentation of the print statement. \n",
    "\n",
    "What would happen if the print statement was indented? Write down your answer **before** you execute the next code cell.\n",
    " "
   ]
  },
  {
   "cell_type": "markdown",
   "metadata": {},
   "source": [
    "**Write your answer here** (double-click this cell to edit it): "
   ]
  },
  {
   "cell_type": "code",
   "execution_count": null,
   "metadata": {},
   "outputs": [],
   "source": [
    "for i in range(0,10):\n",
    "    print(i)\n",
    "    print(\"loop is finished\")"
   ]
  },
  {
   "cell_type": "markdown",
   "metadata": {},
   "source": [
    "Use the next cell to write some code that will:\n",
    "\n",
    " 1. in each iteration compute a variable called t that is 2 times i, and print its value.\n",
    " 2. print \"loop is running\" in each iteration"
   ]
  },
  {
   "cell_type": "code",
   "execution_count": null,
   "metadata": {},
   "outputs": [],
   "source": [
    "#answer here"
   ]
  },
  {
   "cell_type": "markdown",
   "metadata": {},
   "source": [
    "### 1.4 Lists and arrays"
   ]
  },
  {
   "cell_type": "markdown",
   "metadata": {},
   "source": [
    "A variable doesn't need to hold a single value. They can be **lists** of numbers, strings, or combinations of any type of variable. Below are examples of lists, some operations, and examples of how to access certain elements. \n",
    "\n",
    "Does addition do what you expect it to do?"
   ]
  },
  {
   "cell_type": "code",
   "execution_count": null,
   "metadata": {},
   "outputs": [],
   "source": [
    "a = [0,1,2,3]\n",
    "b = ['0','1','2','3']\n",
    "c = ['hello', 'world', '37']"
   ]
  },
  {
   "cell_type": "code",
   "execution_count": null,
   "metadata": {},
   "outputs": [],
   "source": [
    "print(a+b)"
   ]
  },
  {
   "cell_type": "code",
   "execution_count": null,
   "metadata": {},
   "outputs": [],
   "source": [
    "print(c + b)"
   ]
  },
  {
   "cell_type": "code",
   "execution_count": null,
   "metadata": {},
   "outputs": [],
   "source": [
    "print(c)"
   ]
  },
  {
   "cell_type": "code",
   "execution_count": null,
   "metadata": {},
   "outputs": [],
   "source": [
    "print(c[0])"
   ]
  },
  {
   "cell_type": "code",
   "execution_count": null,
   "metadata": {},
   "outputs": [],
   "source": [
    "print(a[1] + a[2])"
   ]
  },
  {
   "cell_type": "markdown",
   "metadata": {},
   "source": [
    "Now access different elements of the lists yourself. Write code that prints the last element of variables `a` and `b`."
   ]
  },
  {
   "cell_type": "code",
   "execution_count": null,
   "metadata": {},
   "outputs": [],
   "source": [
    "#Answer here:"
   ]
  },
  {
   "cell_type": "markdown",
   "metadata": {},
   "source": [
    "### Indices\n",
    "\n",
    "The position of a certain element in an list (or array - you can think of arrays as special types of lists, that only hold one type of variable) is called an **index**. As you can see from the above examples, the first element has an index of `0`. So to access the first element of variable `a`, I typed `a[0]`. The second element is at index `1`, and to access it I would type `a[1]`."
   ]
  },
  {
   "cell_type": "markdown",
   "metadata": {},
   "source": [
    "\n",
    "### 1.5 Numpy\n",
    "\n",
    "Generally speaking, when doing data analysis and numerical calculations, python lists just don't cut it. We will be using the **Numpy library** to create and manipulate arrays, and operate on them using built in functions.\n",
    "\n",
    "The Numpy library is the math workhorse of Python. Everything is vectorized, so `a*b+c**d` makes sense if a is a number **or** an n-dimensional array. This tutorial gives you some very limited examples of the potential of numpy, below are some extra resources.\n",
    "\n",
    "* [Numpy Example List](http://wiki.scipy.org/Numpy_Example_List_With_Doc) Examples using every Numpy function. Keep close at hand!\n",
    "* [Numpy for Matlab Users](http://wiki.scipy.org/NumPy_for_Matlab_Users) Know Matlab? Then use this translation guide.\n",
    "* [Numpy Reference](http://docs.scipy.org/doc/numpy/reference/) Main documentation\n",
    "\n",
    "Numpy is not automatically loaded when you start up python (or a notebook), so we have to explicity import it. We'll call it **np** for short.\n"
   ]
  },
  {
   "cell_type": "code",
   "execution_count": null,
   "metadata": {},
   "outputs": [],
   "source": [
    "import numpy as np"
   ]
  },
  {
   "cell_type": "markdown",
   "metadata": {},
   "source": [
    "We'll define some numpy arrays using np.array() and make some simple calculations. Does it behave the way you expect? You can use the last cell to experiment, and make other computations with the arrays."
   ]
  },
  {
   "cell_type": "code",
   "execution_count": null,
   "metadata": {},
   "outputs": [],
   "source": [
    "a = np.array([0,1,2,3]) #a numpy array\n",
    "b = np.array([4,5,6,7]) #another numpy array"
   ]
  },
  {
   "cell_type": "code",
   "execution_count": null,
   "metadata": {},
   "outputs": [],
   "source": [
    "print(a + b)"
   ]
  },
  {
   "cell_type": "code",
   "execution_count": null,
   "metadata": {},
   "outputs": [],
   "source": [
    "print(a * b)"
   ]
  },
  {
   "cell_type": "code",
   "execution_count": null,
   "metadata": {},
   "outputs": [],
   "source": [
    "print(a - b)"
   ]
  },
  {
   "cell_type": "code",
   "execution_count": null,
   "metadata": {},
   "outputs": [],
   "source": [
    "#experiment here"
   ]
  },
  {
   "cell_type": "markdown",
   "metadata": {},
   "source": [
    "Next we will work with larger arrays. We'll begin by using a numpy function, np.linspace(), to create an array, and demonstrate how to access elements in several ways.\n",
    "\n",
    "At its simplest, the command `np.linspace(i_first, i_last, N)` will return an array with `N` elements, where the first element is set to `i_start`, the last element is set to `i_stop`, and the other elements are linearly spaced in between these two. More information here:\n",
    "\n",
    "https://docs.scipy.org/doc/numpy-1.13.0/reference/generated/numpy.linspace.html\n"
   ]
  },
  {
   "cell_type": "code",
   "execution_count": null,
   "metadata": {
    "scrolled": true
   },
   "outputs": [],
   "source": [
    "N=100\n",
    "i_start=0\n",
    "i_stop=99\n",
    "x = np.linspace(i_start,i_stop,N)\n",
    "print(x)"
   ]
  },
  {
   "cell_type": "markdown",
   "metadata": {},
   "source": [
    "You can operate on the whole array, like so:"
   ]
  },
  {
   "cell_type": "code",
   "execution_count": null,
   "metadata": {
    "scrolled": false
   },
   "outputs": [],
   "source": [
    "y = x + 1\n",
    "print(y)\n"
   ]
  },
  {
   "cell_type": "code",
   "execution_count": null,
   "metadata": {
    "scrolled": true
   },
   "outputs": [],
   "source": [
    "y = x*2\n",
    "print(y)"
   ]
  },
  {
   "cell_type": "markdown",
   "metadata": {},
   "source": [
    "And you can assess and operate on individual elements of the array, by specifying their **index**, like so:"
   ]
  },
  {
   "cell_type": "code",
   "execution_count": null,
   "metadata": {},
   "outputs": [],
   "source": [
    "a = x[20]\n",
    "print(a)"
   ]
  },
  {
   "cell_type": "code",
   "execution_count": null,
   "metadata": {},
   "outputs": [],
   "source": [
    "b = x[20] + x[21]\n",
    "print(b)"
   ]
  },
  {
   "cell_type": "markdown",
   "metadata": {},
   "source": [
    "You can also access more than one element of arrays, in a specified range of **indices**, for example:"
   ]
  },
  {
   "cell_type": "code",
   "execution_count": null,
   "metadata": {},
   "outputs": [],
   "source": [
    "x[0:10]"
   ]
  },
  {
   "cell_type": "code",
   "execution_count": null,
   "metadata": {},
   "outputs": [],
   "source": [
    "x[:8]"
   ]
  },
  {
   "cell_type": "code",
   "execution_count": null,
   "metadata": {},
   "outputs": [],
   "source": [
    "x[40:45]"
   ]
  },
  {
   "cell_type": "markdown",
   "metadata": {},
   "source": [
    "The following cell will give an error. Why?"
   ]
  },
  {
   "cell_type": "code",
   "execution_count": null,
   "metadata": {},
   "outputs": [],
   "source": [
    "x[200]"
   ]
  },
  {
   "cell_type": "markdown",
   "metadata": {},
   "source": [
    "Finally, you can also define an **array of indices**, to make it easier to access certain parts of your array. For example, if you were only interested in every 10th element of an array, you could define a new variable, which we we call `indices`, and that we can use to access those elements quickly, by writing `x[indices]`:"
   ]
  },
  {
   "cell_type": "code",
   "execution_count": null,
   "metadata": {},
   "outputs": [],
   "source": [
    "indices = np.array([10,20,30])\n",
    "print(x[indices])\n",
    "print(y[indices])"
   ]
  },
  {
   "cell_type": "markdown",
   "metadata": {},
   "source": [
    "This is where things get more complicated, but also more powerful. We will use a Numpy function, called `where()`, to return the indices of all array elements that pass a certain condition.\n",
    "\n",
    "(https://docs.scipy.org/doc/numpy-1.13.0/reference/generated/numpy.where.html) \n",
    "\n",
    "For example, let us say that you want to know all the elements of `y` that have a value that is less than 10. \n",
    "\n",
    "We begin by using `where()` to return the indices that hold elements for which that is true (note, because `where` is a Numpy function, we have to preceed it with `np.`, so we write `np.where`):"
   ]
  },
  {
   "cell_type": "code",
   "execution_count": null,
   "metadata": {},
   "outputs": [],
   "source": [
    "y_is_small = np.where(y < 10)[0]"
   ]
  },
  {
   "cell_type": "markdown",
   "metadata": {},
   "source": [
    "(aside: every time we use `np.where` we need to add a `[0]` at the end of the command. If you really want to know why, ask me, but you don't really need to, as long as you remember. Hint: next week's Lab will be harder if you forget!)"
   ]
  },
  {
   "cell_type": "code",
   "execution_count": null,
   "metadata": {},
   "outputs": [],
   "source": [
    "print(y_is_small)"
   ]
  },
  {
   "cell_type": "markdown",
   "metadata": {},
   "source": [
    "So there are 5 elements of the array `y` that have a value less than 10. We can check that this is true, by printing the values of `y` at these indices:"
   ]
  },
  {
   "cell_type": "code",
   "execution_count": null,
   "metadata": {},
   "outputs": [],
   "source": [
    "print(y[y_is_small])"
   ]
  },
  {
   "cell_type": "markdown",
   "metadata": {},
   "source": [
    "Good!"
   ]
  },
  {
   "cell_type": "markdown",
   "metadata": {},
   "source": [
    "Multidimensional arrays (matrices) are straightforward. Let's define an array `a` that has two rows:"
   ]
  },
  {
   "cell_type": "code",
   "execution_count": null,
   "metadata": {},
   "outputs": [],
   "source": [
    "a = np.array( [[1,2,3], [4,5,6]])\n",
    "print(a)"
   ]
  },
  {
   "cell_type": "markdown",
   "metadata": {},
   "source": [
    "Element access is done in order row->column. So to access the first row 1 and column 0 you would write:"
   ]
  },
  {
   "cell_type": "code",
   "execution_count": null,
   "metadata": {},
   "outputs": [],
   "source": [
    "a[1,0]"
   ]
  },
  {
   "cell_type": "markdown",
   "metadata": {},
   "source": [
    "Numpy arrays have methods (functions) that allow you to easily compute basic statistics. To compute the maximum value, the mean value, and the number of elements in `y`, you can write:"
   ]
  },
  {
   "cell_type": "code",
   "execution_count": null,
   "metadata": {},
   "outputs": [],
   "source": [
    "print(y.max(), y.mean(), len(y))"
   ]
  },
  {
   "cell_type": "markdown",
   "metadata": {},
   "source": [
    "### 1.6 Visualisation\n",
    "\n",
    "In this Lab, you will be using Python to interact with data. A large part of that is visualisation. Being able to explore aspects of your data using graphs is a fundamental skill in academia and industry at large.\n",
    "\n",
    "We will use the Python library **matplotlib** - an extensive library with extraordinary functionality. We won't even stratch the surface here, and instead focus on being able to produce basic, clear plots.\n",
    "\n",
    "More information here: http://matplotlib.org/api/pyplot_summary.html\n",
    "\n",
    "First we will import the library, we'll call it plt for short."
   ]
  },
  {
   "cell_type": "code",
   "execution_count": null,
   "metadata": {},
   "outputs": [],
   "source": [
    "import matplotlib.pyplot as plt"
   ]
  },
  {
   "cell_type": "markdown",
   "metadata": {},
   "source": [
    "We're ready for our first plot. Throughout this lab you will be asked to produce plots in exercises. **Always label your axes, provide a sensible title to your plot, and add a legend where necessary!** \n",
    "\n",
    "Let's do a simple **line plot** of y vs x, and label everything sensibly. Line plots will link data points with a line."
   ]
  },
  {
   "cell_type": "code",
   "execution_count": null,
   "metadata": {},
   "outputs": [],
   "source": [
    "x = np.linspace(0,99,100)\n",
    "y = x**2"
   ]
  },
  {
   "cell_type": "code",
   "execution_count": null,
   "metadata": {},
   "outputs": [],
   "source": [
    "plt.figure(figsize=(10,8))\n",
    "plt.plot(x,y, label='y = x$^2$')\n",
    "plt.xlabel('x', fontsize=20)\n",
    "plt.ylabel('y', fontsize=20)\n",
    "plt.title('Hello matplotlib!')\n",
    "plt.legend(loc='upper left')"
   ]
  },
  {
   "cell_type": "markdown",
   "metadata": {},
   "source": [
    "Let's zoom in at the very start of our curve, and explicitly mark the actual data points with small circles. Experiment with some of the commands and parameters below."
   ]
  },
  {
   "cell_type": "code",
   "execution_count": null,
   "metadata": {},
   "outputs": [],
   "source": [
    "plt.figure(figsize=(10,8))\n",
    "plt.plot(x,y, label='y = x$^2$', marker='o') #see https://matplotlib.org/api/markers_api.html\n",
    "plt.xlabel('x', fontsize=20)\n",
    "plt.ylabel('y', fontsize=20)\n",
    "plt.title('Hello matplotlib!')\n",
    "plt.legend(loc='upper left')\n",
    "plt.xlim(0,10)\n",
    "plt.ylim(0,100)"
   ]
  },
  {
   "cell_type": "markdown",
   "metadata": {},
   "source": [
    "**Histograms** are simply couting plots, separating data points into **bins** according to the value of the data points. \n",
    "\n",
    "We will begin by creating two arrays, each with 5000 points drawn randomly between -1 and 1 according to a Gaussian distribution. \n",
    "\n",
    "https://docs.scipy.org/doc/numpy-1.13.0/reference/routines.random.html"
   ]
  },
  {
   "cell_type": "code",
   "execution_count": null,
   "metadata": {},
   "outputs": [],
   "source": [
    "y1 = np.random.randn(5000)\n",
    "y2 = np.random.randn(5000)"
   ]
  },
  {
   "cell_type": "markdown",
   "metadata": {},
   "source": [
    "You can visualise your data by plotting the value of an array (say y1) as a function of its index number, as exemplified below."
   ]
  },
  {
   "cell_type": "code",
   "execution_count": null,
   "metadata": {},
   "outputs": [],
   "source": [
    "plt.figure(figsize=(15,6))\n",
    "plt.plot(y1, marker='o', linestyle='none')\n",
    "plt.xlabel('array index number i', fontsize=15)\n",
    "plt.ylabel('y[i]', fontsize=15)"
   ]
  },
  {
   "cell_type": "markdown",
   "metadata": {},
   "source": [
    "By eye, it looks like most elements of y1 have a value around zero, and most are perhaps between -1 and 1. A histogram bins the values of an array according to their value, so you can easily inspect the most frequent values.\n",
    "\n",
    "Let us now make a histogram for each variable. We will count how many array elements have a certain value, in 20 bins ranging from -5 to 5."
   ]
  },
  {
   "cell_type": "code",
   "execution_count": null,
   "metadata": {},
   "outputs": [],
   "source": [
    "plt.figure(figsize=(10,8))\n",
    "plt.hist(y1, bins=20, range=(-5,5), label='y1', color='purple', histtype='step') #the histtype = 'step' makes your histogram be a line, rather than filled boxes like the next one)\n",
    "plt.hist(y2, bins=20, range=(-5,5), alpha=0.4, label='y2', color='green') #note the alpha value - it makes the second plot slightlt transparent (alpha=1 = opaque)\n",
    "plt.ylabel('N(value)', fontsize=15)\n",
    "plt.xlabel('value of random number', fontsize=15)\n",
    "plt.title('A histogram', fontsize=15)\n",
    "plt.legend( fontsize=15)"
   ]
  },
  {
   "cell_type": "markdown",
   "metadata": {},
   "source": [
    "Experiment with the np.hist() command, changing the width of the bins, or the number of bins. You can also change the colour, labels, etc (**N.B.: Python understands American spelling only - you'll need to use `color`**)."
   ]
  },
  {
   "cell_type": "code",
   "execution_count": null,
   "metadata": {},
   "outputs": [],
   "source": []
  },
  {
   "cell_type": "markdown",
   "metadata": {},
   "source": [
    "Finally, we will look at **scatter** plots, useful for when we need to plot data that we don't necessarily think should be connected with a line. For example, when we are looking at how variables correlate with one another, or where they sit in some parameter space.\n",
    "\n",
    "The y1 and y2 arrays are sets of (uncorrelated) random numbers. That means that the value of element 1 (for example) in y1 will be independent of (or uncorrelated with) the value of element 1 in y2. Let's plot the values of y1 against the values of y2. Can you predict what you will see?"
   ]
  },
  {
   "cell_type": "code",
   "execution_count": null,
   "metadata": {},
   "outputs": [],
   "source": [
    "plt.figure(figsize=(10,10))\n",
    "plt.scatter(y1,y2, marker='*', s=50)\n",
    "plt.xlabel('y$_1$', fontsize=20)\n",
    "plt.ylabel('y$_2$', fontsize=20)\n",
    "plt.title('A scatter plot')"
   ]
  },
  {
   "cell_type": "markdown",
   "metadata": {},
   "source": [
    "You can easily select data elements from your dataset according to their value, and see where they sit in your plot. For example, let us look at where all the datapoints with negative y1 are - we will use the `np.where` function again."
   ]
  },
  {
   "cell_type": "code",
   "execution_count": null,
   "metadata": {},
   "outputs": [],
   "source": [
    "y1_neg = np.where(y1 < 0)[0]\n",
    "plt.figure(figsize=(10,10))\n",
    "plt.scatter(y1,y2, marker='*', s=50)\n",
    "plt.scatter(y1[y1_neg],y2[y1_neg], marker='*', s=50, color='red')\n",
    "plt.xlabel('y$_1$', fontsize=20)\n",
    "plt.ylabel('y$_2$', fontsize=20)"
   ]
  },
  {
   "cell_type": "markdown",
   "metadata": {},
   "source": [
    "You can also have more than one plot in the same figure, using the plt.subplot() command. See the example below. \n",
    "\n",
    "https://matplotlib.org/api/_as_gen/matplotlib.pyplot.subplot.html?highlight=subplot#matplotlib.pyplot.subplot"
   ]
  },
  {
   "cell_type": "code",
   "execution_count": null,
   "metadata": {},
   "outputs": [],
   "source": [
    "y1_neg = np.where(y1 < 0)\n",
    "\n",
    "plt.figure(figsize=(20,10)) #notice we changed the size of our figure, to fit two square subplots side by side.\n",
    "\n",
    "#first subplot\n",
    "plt.subplot(121)    #the arguments passed on to subplot \n",
    "                    #define the size of the grid of plots, \n",
    "                    #and which cell in the grid you want to plot.\n",
    "                    #In this case we are working on a grid of 1 rows and 2 columns,\n",
    "                    #and this is plot number 1\n",
    "plt.scatter(y1,y2, marker='*', s=50)\n",
    "plt.xlabel('y$_1$', fontsize=20)\n",
    "plt.ylabel('y$_2$', fontsize=20)\n",
    "plt.title('all points')\n",
    "plt.xlim(-5,5)\n",
    "\n",
    "\n",
    "plt.subplot(122)   #now on to plot number 2\n",
    "plt.scatter(y1[y1_neg],y2[y1_neg], marker='*', s=50, color='red')\n",
    "plt.xlabel('y$_1$', fontsize=20)\n",
    "plt.ylabel('y$_2$', fontsize=20)\n",
    "plt.title('negative y1')\n",
    "plt.xlim(-5,5)"
   ]
  },
  {
   "cell_type": "markdown",
   "metadata": {},
   "source": [
    "### 1.7 Pandas\n",
    "\n",
    "The next library we will consider is called **pandas** - the Python data analysis library. The workhorse of pandas is an object called a **DataFrame**. Think of it as a **table of data** that can be queried like a **database** and manipulated very efficiently, especially for large datasets. Some of the objects used in next week session are dataframes, so let us have a quick round of how to access dataframe elements (DataFrames are argually one of the most powerful tools for data analysis in Python - we will not use them to their potential).\n",
    "\n",
    "We will begin by importing pandas, as pd for short.\n",
    "\n",
    "https://pandas.pydata.org"
   ]
  },
  {
   "cell_type": "code",
   "execution_count": null,
   "metadata": {},
   "outputs": [],
   "source": [
    "import pandas as pd"
   ]
  },
  {
   "cell_type": "markdown",
   "metadata": {},
   "source": [
    "Next we will create a dataframe, called df, with two columns, each holding one of our arrays of random elements. DataFrames are indexed (that's the first column you see below), allowing one to access elements very efficiently. The next few cells demonstrate how to access DataFrame elements. "
   ]
  },
  {
   "cell_type": "code",
   "execution_count": null,
   "metadata": {
    "scrolled": true
   },
   "outputs": [],
   "source": [
    "df = pd.DataFrame({'y1':y1, 'y2':y2})\n",
    "df"
   ]
  },
  {
   "cell_type": "markdown",
   "metadata": {},
   "source": [
    "To access a specific row of data, you do so by specifiying the location of that row. E.g., to see the values of y1 and y2 in row 10:"
   ]
  },
  {
   "cell_type": "code",
   "execution_count": null,
   "metadata": {},
   "outputs": [],
   "source": [
    "df.loc[10]"
   ]
  },
  {
   "cell_type": "markdown",
   "metadata": {},
   "source": [
    "If you want to access a column specifically, say the value of y1 in row 10:"
   ]
  },
  {
   "cell_type": "code",
   "execution_count": null,
   "metadata": {},
   "outputs": [],
   "source": [
    "df.loc[10]['y1']"
   ]
  },
  {
   "cell_type": "markdown",
   "metadata": {},
   "source": [
    "You can also slice data frames in the same way you did with numpy arrays. For example, to first select all rows where y2 is greater than 0 but less than 0.5, and then print those y2 values, you might do:"
   ]
  },
  {
   "cell_type": "code",
   "execution_count": null,
   "metadata": {
    "scrolled": true
   },
   "outputs": [],
   "source": [
    "y2_pos = np.where( (y2 >0) & (y2 < 0.5))[0]\n",
    "df.loc[y2_pos]['y2']"
   ]
  },
  {
   "cell_type": "markdown",
   "metadata": {},
   "source": [
    "Similarly to what you did before, you can then plot slices of your data frame in different colours. E.g.:"
   ]
  },
  {
   "cell_type": "code",
   "execution_count": null,
   "metadata": {},
   "outputs": [],
   "source": [
    "plt.figure(figsize=(10,8))\n",
    "plt.scatter(df['y1'],df['y2'], marker='*', s=50)\n",
    "plt.scatter(df.loc[y2_pos]['y1'],df.loc[y2_pos]['y2'], marker='*', s=50, color='red')\n",
    "plt.xlabel('y$_1$', fontsize=20)\n",
    "plt.ylabel('y$_2$', fontsize=20)\n"
   ]
  },
  {
   "cell_type": "markdown",
   "metadata": {},
   "source": [
    "**Congratulations!** You should now have a reasonable working knowledge of how python can by used to explore and analyse data. In the next notebook we will put these commands into practice to investigate some SDSS data. "
   ]
  },
  {
   "cell_type": "code",
   "execution_count": null,
   "metadata": {},
   "outputs": [],
   "source": []
  }
 ],
 "metadata": {
  "kernelspec": {
   "display_name": "Python 3",
   "language": "python",
   "name": "python3"
  },
  "language_info": {
   "codemirror_mode": {
    "name": "ipython",
    "version": 3
   },
   "file_extension": ".py",
   "mimetype": "text/x-python",
   "name": "python",
   "nbconvert_exporter": "python",
   "pygments_lexer": "ipython3",
   "version": "3.7.4"
  }
 },
 "nbformat": 4,
 "nbformat_minor": 2
}
